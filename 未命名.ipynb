{
 "cells": [
  {
   "cell_type": "code",
   "execution_count": null,
   "id": "2102eadb",
   "metadata": {},
   "outputs": [],
   "source": [
    "from opensgscore import *"
   ]
  },
  {
   "cell_type": "code",
   "execution_count": null,
   "id": "b2e0f2b5",
   "metadata": {},
   "outputs": [],
   "source": [
    "cards = gamedata.load_cards()\n",
    "equips = gamedata.load_equipments()\n",
    "generals = gamedata.load_generals()"
   ]
  },
  {
   "cell_type": "code",
   "execution_count": null,
   "id": "c9ea8160",
   "metadata": {},
   "outputs": [],
   "source": [
    "sgs = game.Game(cards, generals, equips)"
   ]
  },
  {
   "cell_type": "code",
   "execution_count": null,
   "id": "35843bc6",
   "metadata": {},
   "outputs": [],
   "source": [
    "sgs"
   ]
  },
  {
   "cell_type": "code",
   "execution_count": null,
   "id": "de944110",
   "metadata": {},
   "outputs": [],
   "source": [
    "sgs.add_player(game.empty_player(\"a\"))\n",
    "sgs.add_player(game.empty_player(\"b\"))"
   ]
  },
  {
   "cell_type": "code",
   "execution_count": null,
   "id": "1e8b3d11",
   "metadata": {},
   "outputs": [],
   "source": [
    "sgs.add_player(game.empty_player(\"c\"))"
   ]
  },
  {
   "cell_type": "code",
   "execution_count": null,
   "id": "7518fd04",
   "metadata": {},
   "outputs": [],
   "source": [
    "sgs.add_player(game.empty_player(\"d\"))\n",
    "sgs.add_player(game.empty_player(\"e\"))"
   ]
  },
  {
   "cell_type": "code",
   "execution_count": null,
   "id": "daeb9fc7",
   "metadata": {},
   "outputs": [],
   "source": [
    "sgs"
   ]
  },
  {
   "cell_type": "code",
   "execution_count": null,
   "id": "de5b5d13",
   "metadata": {},
   "outputs": [],
   "source": []
  }
 ],
 "metadata": {
  "kernelspec": {
   "display_name": "Python 3.10.4 64-bit",
   "language": "python",
   "name": "python3"
  },
  "language_info": {
   "codemirror_mode": {
    "name": "ipython",
    "version": 3
   },
   "file_extension": ".py",
   "mimetype": "text/x-python",
   "name": "python",
   "nbconvert_exporter": "python",
   "pygments_lexer": "ipython3",
   "version": "3.10.4"
  },
  "vscode": {
   "interpreter": {
    "hash": "b9007f969ff948671a561e75793da4e538c00297fd0fe409210f7415c6630afa"
   }
  }
 },
 "nbformat": 4,
 "nbformat_minor": 5
}
