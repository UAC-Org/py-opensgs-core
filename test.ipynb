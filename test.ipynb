{
 "cells": [
  {
   "cell_type": "code",
   "execution_count": 1,
   "id": "2102eadb",
   "metadata": {},
   "outputs": [],
   "source": [
    "from opensgscore import *"
   ]
  },
  {
   "cell_type": "code",
   "execution_count": 2,
   "id": "b2e0f2b5",
   "metadata": {},
   "outputs": [],
   "source": [
    "cards = gamedata.load_cards()\n",
    "equips = gamedata.load_equipments()\n",
    "generals = gamedata.load_generals()"
   ]
  },
  {
   "cell_type": "code",
   "execution_count": 3,
   "id": "c9ea8160",
   "metadata": {},
   "outputs": [],
   "source": [
    "sgs = game.Game(cards, generals, equips)"
   ]
  },
  {
   "cell_type": "code",
   "execution_count": null,
   "id": "35843bc6",
   "metadata": {},
   "outputs": [],
   "source": [
    "sgs"
   ]
  },
  {
   "cell_type": "code",
   "execution_count": 4,
   "id": "de944110",
   "metadata": {},
   "outputs": [],
   "source": [
    "sgs.add_player(game.empty_player(\"a\"))\n",
    "sgs.add_player(game.empty_player(\"b\"))"
   ]
  },
  {
   "cell_type": "code",
   "execution_count": null,
   "id": "1e8b3d11",
   "metadata": {},
   "outputs": [],
   "source": [
    "sgs.add_player(game.empty_player(\"c\"))"
   ]
  },
  {
   "cell_type": "code",
   "execution_count": 5,
   "id": "7518fd04",
   "metadata": {},
   "outputs": [],
   "source": [
    "sgs.add_player(game.empty_player(\"d\"))\n",
    "sgs.add_player(game.empty_player(\"e\"))"
   ]
  },
  {
   "cell_type": "code",
   "execution_count": 6,
   "id": "daeb9fc7",
   "metadata": {},
   "outputs": [
    {
     "data": {
      "text/plain": [
       "Game(\n",
       "    players=[Player(name='a', cards=[], identity='', general='', equipments=[], hp=0, max_hp=0), Player(name='b', cards=[], identity='', general='', equipments=[], hp=0, max_hp=0), Player(name='d', cards=[], identity='', general='', equipments=[], hp=0, max_hp=0), Player(name='e', cards=[], identity='', general='', equipments=[], hp=0, max_hp=0)],\n",
       "    cards=['黑桃7 杀', '黑桃8 杀', '黑桃Ⅷ 杀', '黑桃Ⅸ 杀', '黑桃9 杀', '黑桃X 杀', '黑桃10 杀', '梅花2 杀', '梅花3 杀', '梅花4 杀', '梅花5 杀', '梅花6 杀', '梅花7 杀', '梅花8 杀', '梅花Ⅷ 杀', '梅花9 杀', '梅花Ⅸ 杀', '梅花10 杀', '梅花X 杀', '梅花J 杀', '梅花11 杀', '红桃10 杀', '红桃X 杀', '红桃J 杀', '方块6 杀', '方块7 杀', '方块8 杀', '方块9 杀', '方块10 杀', '方块K 杀', '红桃4 火杀', '红桃7 火杀', '红桃10 火杀', '方块4 火杀', '方块5 火杀', '黑桃4 雷杀', '黑桃5 雷杀', '黑桃6 雷杀', '黑桃7 雷杀', '黑桃8 雷杀', '梅花5 雷杀', '梅花6 雷杀', '梅花7 雷杀', '梅花8 雷杀', '黑桃3 过河拆桥', '黑桃4 过河拆桥', '黑桃Q 过河拆桥', '梅花3 过河拆桥', '梅花4 过河拆桥', '红桃Q 过河拆桥', '黑桃3 顺手牵羊', '黑桃4 顺手牵羊', '黑桃J 顺手牵羊', '方块3 顺手牵羊', '方块4 顺手牵羊', '黑桃A 决斗', '梅花A 决斗', '方块A 决斗', '梅花Q 借刀杀人', '梅花K 借刀杀人', '红桃7 无中生有', '红桃8 无中生有', '红桃9 无中生有', '红桃J 无中生有', '黑桃J 无懈可击', '黑桃K 无懈可击', '梅花Q 无懈可击', '梅花K 无懈可击', '红桃A 无懈可击', '红桃K 无懈可击', '方块Q 无懈可击', '黑桃J 铁索连环', '黑桃Q 铁索连环', '梅花10 铁索连环', '梅花J 铁索连环', '梅花Q 铁索连环', '梅花K 铁索连环', '红桃2 火攻', '红桃3 火攻', '方块Q 火攻', '红桃A 万箭齐发', '黑桃7 南蛮入侵', '黑桃K 南蛮入侵', '梅花7 南蛮入侵', '红桃A 桃园结义', '红桃3 五谷丰登', '红桃4 五谷丰登', '黑桃A 闪电', '红桃Q 闪电', '黑桃6 乐不思蜀', '红桃6 乐不思蜀', '梅花6 乐不思蜀', '黑桃10 兵粮寸断', '梅花4 兵粮寸断', '梅花A 诸葛连弩', '方片A 诸葛连弩', '黑桃6 青釭剑', '黑桃2 雌雄双股剑', '黑桃2 寒冰剑', '黑桃A 古锭刀', '方块5 贯石斧', '黑桃5 青龙偃月刀', '黑桃Q 丈八蛇矛', '方块Q 方天画戟', '方块A 朱雀羽扇', '红桃A 麒麟弓', '方块Q 银月枪', '黑桃2 八卦阵', '梅花2 八卦阵', '梅花2 仁王盾', '黑桃2 藤甲', '梅花2 藤甲', '梅花A 白银狮子', '黑桃5 +1马', '红桃K +1马', '方块K +1马', '梅花5 +1马', '黑桃K -1马', '红桃5 -1马', '方块K -1马', '方块5 木牛流马'],\n",
       "    generals={'硝酸钠': 4, '小ming': 4, 'Miku': 3, '瑄瑄啊': 2, '阿云': 4, 'pui': 5, '群主姐姐': 4, '高铁': 4, 'U235': 4, '星语': 4, '大白': 4, '南舟白明': 4, 'nb': 4, '标·硝酸钠': 4, '神·硝酸钠': 4},\n",
       "    equipments=['梅花A 诸葛连弩', '方片A 诸葛连弩', '黑桃6 青釭剑', '黑桃2 雌雄双股剑', '黑桃2 寒冰剑', '黑桃A 古锭刀', '方块5 贯石斧', '黑桃5 青龙偃月刀', '黑桃Q 丈八蛇矛', '方块Q 方天画戟', '方块A 朱雀羽扇', '红桃A 麒麟弓', '方块Q 银月枪', '黑桃2 八卦阵', '梅花2 八卦阵', '梅花2 仁王盾', '黑桃2 藤甲', '梅花2 藤甲', '梅花A 白银狮子', '黑桃5 +1马', '红桃K +1马', '方块K +1马', '梅花5 +1马', '黑桃K -1马', '红桃5 -1马', '方块K -1马', '方块5 木牛流马']\n",
       ")"
      ]
     },
     "execution_count": 6,
     "metadata": {},
     "output_type": "execute_result"
    }
   ],
   "source": [
    "sgs"
   ]
  },
  {
   "cell_type": "code",
   "execution_count": 7,
   "id": "de5b5d13",
   "metadata": {},
   "outputs": [],
   "source": [
    "sgs.apply_all_identities()\n",
    "sgs.apply_general(\"a\", \"nb\")"
   ]
  },
  {
   "cell_type": "code",
   "execution_count": 8,
   "id": "53db610a",
   "metadata": {},
   "outputs": [
    {
     "data": {
      "text/plain": [
       "Game(\n",
       "    players=[Player(name='a', cards=[], identity='反贼', general='nb', equipments=[], hp=4, max_hp=4), Player(name='b', cards=[], identity='主公', general='', equipments=[], hp=0, max_hp=0), Player(name='d', cards=[], identity='内奸', general='', equipments=[], hp=0, max_hp=0), Player(name='e', cards=[], identity='忠臣', general='', equipments=[], hp=0, max_hp=0)],\n",
       "    cards=['黑桃7 杀', '黑桃8 杀', '黑桃Ⅷ 杀', '黑桃Ⅸ 杀', '黑桃9 杀', '黑桃X 杀', '黑桃10 杀', '梅花2 杀', '梅花3 杀', '梅花4 杀', '梅花5 杀', '梅花6 杀', '梅花7 杀', '梅花8 杀', '梅花Ⅷ 杀', '梅花9 杀', '梅花Ⅸ 杀', '梅花10 杀', '梅花X 杀', '梅花J 杀', '梅花11 杀', '红桃10 杀', '红桃X 杀', '红桃J 杀', '方块6 杀', '方块7 杀', '方块8 杀', '方块9 杀', '方块10 杀', '方块K 杀', '红桃4 火杀', '红桃7 火杀', '红桃10 火杀', '方块4 火杀', '方块5 火杀', '黑桃4 雷杀', '黑桃5 雷杀', '黑桃6 雷杀', '黑桃7 雷杀', '黑桃8 雷杀', '梅花5 雷杀', '梅花6 雷杀', '梅花7 雷杀', '梅花8 雷杀', '黑桃3 过河拆桥', '黑桃4 过河拆桥', '黑桃Q 过河拆桥', '梅花3 过河拆桥', '梅花4 过河拆桥', '红桃Q 过河拆桥', '黑桃3 顺手牵羊', '黑桃4 顺手牵羊', '黑桃J 顺手牵羊', '方块3 顺手牵羊', '方块4 顺手牵羊', '黑桃A 决斗', '梅花A 决斗', '方块A 决斗', '梅花Q 借刀杀人', '梅花K 借刀杀人', '红桃7 无中生有', '红桃8 无中生有', '红桃9 无中生有', '红桃J 无中生有', '黑桃J 无懈可击', '黑桃K 无懈可击', '梅花Q 无懈可击', '梅花K 无懈可击', '红桃A 无懈可击', '红桃K 无懈可击', '方块Q 无懈可击', '黑桃J 铁索连环', '黑桃Q 铁索连环', '梅花10 铁索连环', '梅花J 铁索连环', '梅花Q 铁索连环', '梅花K 铁索连环', '红桃2 火攻', '红桃3 火攻', '方块Q 火攻', '红桃A 万箭齐发', '黑桃7 南蛮入侵', '黑桃K 南蛮入侵', '梅花7 南蛮入侵', '红桃A 桃园结义', '红桃3 五谷丰登', '红桃4 五谷丰登', '黑桃A 闪电', '红桃Q 闪电', '黑桃6 乐不思蜀', '红桃6 乐不思蜀', '梅花6 乐不思蜀', '黑桃10 兵粮寸断', '梅花4 兵粮寸断', '梅花A 诸葛连弩', '方片A 诸葛连弩', '黑桃6 青釭剑', '黑桃2 雌雄双股剑', '黑桃2 寒冰剑', '黑桃A 古锭刀', '方块5 贯石斧', '黑桃5 青龙偃月刀', '黑桃Q 丈八蛇矛', '方块Q 方天画戟', '方块A 朱雀羽扇', '红桃A 麒麟弓', '方块Q 银月枪', '黑桃2 八卦阵', '梅花2 八卦阵', '梅花2 仁王盾', '黑桃2 藤甲', '梅花2 藤甲', '梅花A 白银狮子', '黑桃5 +1马', '红桃K +1马', '方块K +1马', '梅花5 +1马', '黑桃K -1马', '红桃5 -1马', '方块K -1马', '方块5 木牛流马'],\n",
       "    generals={'硝酸钠': 4, '小ming': 4, 'Miku': 3, '瑄瑄啊': 2, '阿云': 4, 'pui': 5, '群主姐姐': 4, '高铁': 4, 'U235': 4, '星语': 4, '大白': 4, '南舟白明': 4, '标·硝酸钠': 4, '神·硝酸钠': 4},\n",
       "    equipments=['梅花A 诸葛连弩', '方片A 诸葛连弩', '黑桃6 青釭剑', '黑桃2 雌雄双股剑', '黑桃2 寒冰剑', '黑桃A 古锭刀', '方块5 贯石斧', '黑桃5 青龙偃月刀', '黑桃Q 丈八蛇矛', '方块Q 方天画戟', '方块A 朱雀羽扇', '红桃A 麒麟弓', '方块Q 银月枪', '黑桃2 八卦阵', '梅花2 八卦阵', '梅花2 仁王盾', '黑桃2 藤甲', '梅花2 藤甲', '梅花A 白银狮子', '黑桃5 +1马', '红桃K +1马', '方块K +1马', '梅花5 +1马', '黑桃K -1马', '红桃5 -1马', '方块K -1马', '方块5 木牛流马']\n",
       ")"
      ]
     },
     "execution_count": 8,
     "metadata": {},
     "output_type": "execute_result"
    }
   ],
   "source": [
    "sgs"
   ]
  }
 ],
 "metadata": {
  "kernelspec": {
   "display_name": "Python 3.10.4 64-bit",
   "language": "python",
   "name": "python3"
  },
  "language_info": {
   "codemirror_mode": {
    "name": "ipython",
    "version": 3
   },
   "file_extension": ".py",
   "mimetype": "text/x-python",
   "name": "python",
   "nbconvert_exporter": "python",
   "pygments_lexer": "ipython3",
   "version": "3.10.4"
  },
  "vscode": {
   "interpreter": {
    "hash": "b9007f969ff948671a561e75793da4e538c00297fd0fe409210f7415c6630afa"
   }
  }
 },
 "nbformat": 4,
 "nbformat_minor": 5
}
